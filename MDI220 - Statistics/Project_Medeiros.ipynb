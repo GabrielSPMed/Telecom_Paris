{
 "cells": [
  {
   "cell_type": "markdown",
   "metadata": {},
   "source": [
    "# MDI220 - Project\n",
    "## SOUZA PINTO MEDEIROS, Gabriel"
   ]
  },
  {
   "cell_type": "code",
   "execution_count": 1,
   "metadata": {},
   "outputs": [],
   "source": [
    "import math                           \n",
    "import numpy as np                    \n",
    "from sklearn import linear_model      \n",
    "from os import mkdir                  \n",
    "import matplotlib.pyplot as plt\n",
    "import pandas as pd\n",
    "import datetime\n",
    "import scipy.stats as stats"
   ]
  },
  {
   "cell_type": "markdown",
   "metadata": {},
   "source": [
    "## Exercise 1\n",
    "\n",
    "To clarify, I was having trouble downloading the dataset from the url because it locked behind the eCampus login, so I downloaded the file and placed it in the same directory as this notebook. In order to run this file please have the dataset in the same directory as the file being run"
   ]
  },
  {
   "cell_type": "markdown",
   "metadata": {},
   "source": [
    "### 1.1"
   ]
  },
  {
   "cell_type": "code",
   "execution_count": 2,
   "metadata": {},
   "outputs": [],
   "source": [
    "na_values= [''] #define values to be filled by NaN\n",
    "fields = ['Date', 'Cost (millions 2013US$)'] #Columns observed\n",
    "filename = 'C_id_35_NuclearPowerAccidents2016.csv' #If the dataset is not in the same directory as this notebook\n",
    "#please change the filepath to the correct relative filepath\n",
    "df = pd.read_csv(filename, sep=',', nrows=20000000, na_values=na_values, usecols=fields) #import the dataframe"
   ]
  },
  {
   "cell_type": "code",
   "execution_count": 3,
   "metadata": {
    "scrolled": true
   },
   "outputs": [
    {
     "name": "stdout",
     "output_type": "stream",
     "text": [
      "I obtained a length of 55 for x\n"
     ]
    }
   ],
   "source": [
    "df.loc[:,'Date']=pd.to_datetime(df['Date']).values #convert the dates to datetime\n",
    "df = df.loc[df['Date']<np.datetime64('1979-03-28').astype('datetime64[ns]')] #drop unnecessary dates\n",
    "df = df.dropna(how='any') #drop empty values\n",
    "x = np.array(df['Cost (millions 2013US$)'].values) #make numpy array\n",
    "print(f'I obtained a length of {len(x)} for x') #"
   ]
  },
  {
   "cell_type": "markdown",
   "metadata": {},
   "source": [
    "### 1.2"
   ]
  },
  {
   "cell_type": "markdown",
   "metadata": {},
   "source": [
    "a)\n",
    "Considering a gaussian distribution with mean μ and variance σ^2, where θ = (μ, σ)\n",
    "\n",
    "The generic quantile function of the gaussian distribution is:\n",
    "\\begin{equation}\n",
    "F_θ^{-1} = μ + σ\\sqrt{2}erf^{-1}(2p-1), p \\in (0,1)\n",
    "\\end{equation}\n",
    "Where erf is the inverse error function\n",
    "\n",
    "Considering θ = (0, 1)\n",
    "\\begin{equation}\n",
    "F_{(0,1)}^{-1} = \\sqrt{2}erf^{-1}(2p-1)\n",
    "\\end{equation}\n",
    "\n",
    "Μultiplying by an arbitrary σ:\n",
    "\\begin{equation}\n",
    "σF_{(0,1)}^{-1} = σ\\sqrt{2}erf^{-1}(2p-1)\n",
    "\\end{equation}\n",
    "\n",
    "Adding an arbitrary μ:\n",
    "\\begin{equation}\n",
    "μ + σF_{(0,1)}^{-1} = μ + σ\\sqrt{2}erf^{-1}(2p-1)\n",
    "\\end{equation}\n",
    "\n",
    "Substituting the generic quantile function we obtain:\n",
    "\\begin{equation}\n",
    "μ + σF_{(0,1)}^{-1} = F_{(μ, θ)}^{-1}\n",
    "\\end{equation}"
   ]
  },
  {
   "cell_type": "markdown",
   "metadata": {},
   "source": [
    "b)"
   ]
  },
  {
   "cell_type": "code",
   "execution_count": 218,
   "metadata": {},
   "outputs": [
    {
     "data": {
      "image/png": "[encoded data removed]",
      "text/plain": [
       "<Figure size 432x288 with 1 Axes>"
      ]
     },
     "metadata": {
      "needs_background": "light"
     },
     "output_type": "display_data"
    }
   ],
   "source": [
    "stats.probplot(x, dist = 'norm', plot = plt)\n",
    "plt.show()"
   ]
  },
  {
   "cell_type": "markdown",
   "metadata": {},
   "source": [
    "### 1.3"
   ]
  },
  {
   "cell_type": "markdown",
   "metadata": {},
   "source": [
    "a) In order to find the quantile function we must start from the CDF:\n",
    "\\begin{equation}\n",
    "F(x, θ) = 1 - e^{-θx}\n",
    "\\end{equation}\n",
    "\n",
    "Assuming a probability p and isolating x we obtain the quantile function:\n",
    "\\begin{equation}\n",
    "F_θ^{-1}(p)= -\\frac{ln(1-p)}{θ}\n",
    "\\end{equation}\n",
    "\n",
    "Assuming θ = 1:\n",
    "\\begin{equation}\n",
    "F_1^{-1}(p)= -{ln(1-p)}\n",
    "\\end{equation}\n",
    "\n",
    "Dividing by a generic θ:\n",
    "\\begin{equation}\n",
    "\\frac{F_1^{-1}(p)}{θ}= \\frac{-{ln(1-p)}}{θ}\n",
    "\\end{equation}\n",
    "\n",
    "Finally, substituting the original quantile function:\n",
    "\\begin{equation}\n",
    "\\frac{F_1^{-1}(p)}{θ}= F_θ^{-1}(p)\n",
    "\\end{equation}"
   ]
  },
  {
   "cell_type": "markdown",
   "metadata": {},
   "source": [
    "b)"
   ]
  },
  {
   "cell_type": "code",
   "execution_count": 219,
   "metadata": {},
   "outputs": [
    {
     "data": {
      "image/png": "[encoded data removed]",
      "text/plain": [
       "<Figure size 432x288 with 1 Axes>"
      ]
     },
     "metadata": {
      "needs_background": "light"
     },
     "output_type": "display_data"
    }
   ],
   "source": [
    "stats.probplot(x, dist = 'expon', plot = plt)\n",
    "plt.show()"
   ]
  },
  {
   "cell_type": "markdown",
   "metadata": {},
   "source": [
    "### 1.4\n",
    "\n",
    "Upon analyzing the plot generated at 1.2, clearly we don't have a Normal distribution. At 1.3, however, it seems like the Q-Q plot is closer to a straight line, albeit with some outliers. We can therefore extrapolate that the data behaves like an exponential distribution, which coincides with the proposed analysis for upcoming questions."
   ]
  },
  {
   "cell_type": "markdown",
   "metadata": {},
   "source": [
    "## Exercise 2"
   ]
  },
  {
   "cell_type": "markdown",
   "metadata": {},
   "source": [
    "### 2.1\n",
    "Firstly we start from the likelihood function of the exponential:\n",
    "\\begin{equation}\n",
    "L(θ|x_1, x_2, ... x_n) = \\prod_{i=1}^{n}θe^{-xθ} = θ^ne^{-θ\\sum_{i=1}^{n}x}\n",
    "\\end{equation}\n",
    "\n",
    "In order to make this function easier to maximize, we apply the log to obtain the log-likelihood function:\n",
    "\\begin{equation}\n",
    "nln(θ) -θ\\sum_{i=1}^{n}x\n",
    "\\end{equation}\n",
    "\n",
    "Now, in order to maximize we take the derivative and equate to 0:\n",
    "\\begin{equation}\n",
    "0 = \\frac{n}{θ} -\\sum_{i=1}^{n}x\n",
    "\\end{equation}\n",
    "\n",
    "Thus, the maximum likelihood estimator of θ is:\n",
    "\\begin{equation}\n",
    "\\widehat θ = \\frac{n}{\\sum_{i=1}^{n}x}\n",
    "\\end{equation}"
   ]
  },
  {
   "cell_type": "code",
   "execution_count": 220,
   "metadata": {},
   "outputs": [
    {
     "name": "stdout",
     "output_type": "stream",
     "text": [
      "The maximum likelihood estimator for θ is: 0.0014\n"
     ]
    }
   ],
   "source": [
    "ML = len(x)/x.sum()\n",
    "print(f'The maximum likelihood estimator for θ is: {ML:.4f}')"
   ]
  },
  {
   "cell_type": "markdown",
   "metadata": {},
   "source": [
    "### 2.2"
   ]
  },
  {
   "cell_type": "code",
   "execution_count": 221,
   "metadata": {},
   "outputs": [
    {
     "data": {
      "image/png": "[encoded data removed]",
      "text/plain": [
       "<Figure size 432x288 with 1 Axes>"
      ]
     },
     "metadata": {
      "needs_background": "light"
     },
     "output_type": "display_data"
    }
   ],
   "source": [
    "plt.hist(x,20, density = True)\n",
    "ln = np.linspace(0, 8000, 8001)\n",
    "plt.plot(ln, ML*np.exp(-ML*ln))\n",
    "plt.title(\"Histogram density and probability density\")\n",
    "plt.show()"
   ]
  },
  {
   "cell_type": "markdown",
   "metadata": {},
   "source": [
    "### 2.3\n",
    "\n",
    "Starting from the previously obtained log likelihood function:\n",
    "\\begin{equation}\n",
    "nln(θ) -θ\\sum_{i=1}^{n}x\n",
    "\\end{equation}\n",
    "\n",
    "Log likelihood for n = 1:\n",
    "\\begin{equation}\n",
    "logp_θ(x) = ln(θ)- xθ\n",
    "\\end{equation}\n",
    "\n",
    "Finding the fisher information:\n",
    "\\begin{equation}\n",
    "I(θ) = -E(\\frac{\\partial^2 logp_θ(x)}{\\partial θ^2})n = \\frac{n}{θ^2}\n",
    "\\end{equation}\n",
    "\n",
    "Finding $g'(θ)$:\n",
    "\\begin{equation}\n",
    "g'(θ) = (\\frac{1}{θ})' = -\\frac{1}{θ^2}\n",
    "\\end{equation}\n",
    "\n",
    "Applying the Cramer-Rao bound:\n",
    "\\begin{equation}\n",
    "Var(\\widehat g) \\geq \\frac{g'(θ)^2}{I(θ)}\n",
    "\\end{equation}\n",
    "\n",
    "\\begin{equation}\n",
    "\\frac{1}{nθ^2} \\geq \\frac{\\frac{1}{θ^4}}{\\frac{n}{θ^2}} = \\frac{1}{nθ^2}\n",
    "\\end{equation}\n",
    "\n",
    "Thus the estimator is efficient"
   ]
  },
  {
   "cell_type": "markdown",
   "metadata": {},
   "source": [
    "### 2.4"
   ]
  },
  {
   "cell_type": "code",
   "execution_count": 222,
   "metadata": {},
   "outputs": [
    {
     "name": "stdout",
     "output_type": "stream",
     "text": [
      "The mean is 726.34\n",
      "The efficient estimator for the mean is 726.34\n"
     ]
    }
   ],
   "source": [
    "g = 1/ML\n",
    "print(f'The mean is {x.sum()/len(x):.2f}')\n",
    "print(f'The efficient estimator for the mean is {g:.2f}')"
   ]
  },
  {
   "cell_type": "markdown",
   "metadata": {},
   "source": [
    "### 2.5\n",
    "First we calculate E(X) and E(X^2):\n",
    "\\begin{equation}\n",
    "E(X) = 1/θ\n",
    "\\end{equation}\n",
    "\\begin{equation}\n",
    "E(X^2) = 2/θ^{2}\n",
    "\\end{equation}\n",
    "\n",
    "Now we calculate the expected values for the previous estimator:\n",
    "\\begin{equation}\n",
    "E(\\widehat g) = E(\\frac{X_1 + X_2 + ... + X_n}{n}) = \n",
    "\\end{equation}\n",
    "\n",
    "\\begin{equation}\n",
    "\\frac{E(X_1) + E(X_2) + ... + E(X_n)}{n} = \n",
    "\\end{equation}\n",
    "\n",
    "\\begin{equation}\n",
    "\\frac{\\frac{1}{θ} + \\frac{1}{θ} + ... + \\frac{1}{θ}}{n} = \n",
    "\\end{equation}\n",
    "\n",
    "\\begin{equation}\n",
    "\\frac{\\frac{n}{θ}}{n} = \n",
    "\\end{equation}\n",
    "\n",
    "\\begin{equation}\n",
    "E(\\widehat g) = \\frac{1}{θ}\n",
    "\\end{equation}\n",
    "\n",
    "For the new estimator:\n",
    "\\begin{equation}\n",
    "E(η\\frac{X_1 + X_2 + ... + X_n}{n}) = \n",
    "\\end{equation}\n",
    "\n",
    "\\begin{equation}\n",
    "\\frac{ηE(X_1) + ηE(X_2) + ... + ηE(X_n)}{n} = \n",
    "\\end{equation}\n",
    "\n",
    "\\begin{equation}\n",
    "\\frac{\\frac{η}{θ} + \\frac{η}{θ} + ... + \\frac{η}{θ}}{n} = \n",
    "\\end{equation}\n",
    "\n",
    "\\begin{equation}\n",
    "\\frac{\\frac{nη}{θ}}{n} = \n",
    "\\end{equation}\n",
    "\n",
    "\\begin{equation}\n",
    "E(\\widehat g_η) = \\frac{η}{θ}\n",
    "\\end{equation}\n",
    "\n",
    "Now to find the variance for the old estimator:\n",
    "\\begin{equation}\n",
    "Var(\\widehat g) = Var(\\frac{X_1 + X_2 + ... + X_n}{n}) = \n",
    "\\end{equation}\n",
    "\n",
    "\\begin{equation}\n",
    "\\frac{Var(X_1 + X_2 + ... + X_n)}{n^2} = \n",
    "\\end{equation}\n",
    "\n",
    "\\begin{equation}\n",
    "\\frac{nVar(X)}{n^2} = \n",
    "\\end{equation}\n",
    "\n",
    "\\begin{equation}\n",
    "\\frac{E(X^2) - E(X)^2}{n} = \n",
    "\\end{equation}\n",
    "\n",
    "\\begin{equation}\n",
    "\\frac{\\frac{2}{θ^2} - \\frac{1}{θ^2}}{n} = \n",
    "\\end{equation}\n",
    "\n",
    "\\begin{equation}\n",
    "Var(\\widehat g) = \\frac{1}{nθ^2}\n",
    "\\end{equation}\n",
    "\n",
    "Now to find the variance for the new one:\n",
    "\\begin{equation}\n",
    "Var(\\widehat g_η) = Var(\\frac{η(X_1 + X_2 + ... + X_n)}{n}) = \n",
    "\\end{equation}\n",
    "\n",
    "\\begin{equation}\n",
    "\\frac{η^2Var(X_1 + X_2 + ... + X_n)}{n^2} = \n",
    "\\end{equation}\n",
    "\n",
    "\\begin{equation}\n",
    "\\frac{η^2nVar(X)}{n^2} = \n",
    "\\end{equation}\n",
    "\n",
    "\\begin{equation}\n",
    "\\frac{η^2E(X^2) - η^2E(X)^2}{n} = \n",
    "\\end{equation}\n",
    "\n",
    "\\begin{equation}\n",
    "\\frac{\\frac{2η^2}{θ^2} - \\frac{η^2}{θ^2}}{n} = \n",
    "\\end{equation}\n",
    "\n",
    "\\begin{equation}\n",
    "Var(\\widehat g_η) = \\frac{η^2}{nθ^2}\n",
    "\\end{equation}\n",
    "\n",
    "Finally, to find the bias for the previous estimator:\n",
    "\\begin{equation}\n",
    "B(\\widehat g, g) = E(\\widehat g) - g = \\frac{1}{θ} - \\frac{1}{θ}= 0\n",
    "\\end{equation}\n",
    "\n",
    "For the new one however:\n",
    "\\begin{equation}\n",
    "B(\\widehat g_η, g) = E(\\widehat g_η) - g = \\frac{η}{θ} - \\frac{1}{θ} = \\frac{η-1}{θ} \n",
    "\\end{equation}\n",
    "\n",
    "Finding the risk function for the previous estimator:\n",
    "\\begin{equation}\n",
    "R(θ, \\widehat g) = Var(\\widehat g) = \\frac{1}{nθ^2}\n",
    "\\end{equation}\n",
    "\n",
    "Doing the same for the new estimator:\n",
    "\\begin{equation}\n",
    "R(θ, \\widehat g_η) = Var(\\widehat g_η) + B(\\widehat g_η, g)^2 = \\frac{η^2}{nθ^2} + \\frac{η^2-2η+1}{θ^2}\n",
    "\\end{equation}\n",
    "\n",
    "Substituting in the inequality:\n",
    "\\begin{equation}\n",
    "\\frac{η^2}{nθ^2} + \\frac{η^2-2η+1}{θ^2} - \\frac{1}{nθ^2} < 0\n",
    "\\end{equation}\n",
    "\n",
    "\\begin{equation}\n",
    "η^2 + n(η^2-2η+1) - 1 < 0\n",
    "\\end{equation}\n",
    "\n",
    "\\begin{equation}\n",
    "η^2(1+n) + η(-2n) + (-1 + n) < 0\n",
    "\\end{equation}\n",
    "\n",
    "\\begin{equation}\n",
    "\\frac{2n \\pm \\sqrt{4n^2 - 4(n^2 - 1)}}{2(1+n)}\n",
    "\\end{equation}\n",
    "\n",
    "\\begin{equation}\n",
    "\\frac{n \\pm 1}{1+n}\n",
    "\\end{equation}\n",
    "\n",
    "Thus, the interval for which $R(θ,\\widehat g) > R(θ, \\widehat g_η)$ is $η = (\\frac{n-1}{n+1}, 1)$"
   ]
  },
  {
   "cell_type": "markdown",
   "metadata": {},
   "source": [
    "### 2.6\n",
    "To get the median we must take the CDF and equate it to 0.5:\n",
    "\\begin{equation}\n",
    "0.5 = 1-e^{\\frac{-x}{\\widehat g}}\n",
    "\\end{equation}\n",
    "\n",
    "Resulting in:\n",
    "\\begin{equation}\n",
    "x = ln(2)\\widehat g\n",
    "\\end{equation}\n",
    "\n",
    "Thus:\n",
    "\\begin{equation}\n",
    "η = ln(2)\n",
    "\\end{equation}"
   ]
  },
  {
   "cell_type": "code",
   "execution_count": 223,
   "metadata": {},
   "outputs": [
    {
     "name": "stdout",
     "output_type": "stream",
     "text": [
      "The estimated median is 503.46\n"
     ]
    }
   ],
   "source": [
    "print(f'The estimated median is {1/ML*np.log(2):.2f}')"
   ]
  },
  {
   "cell_type": "code",
   "execution_count": 224,
   "metadata": {},
   "outputs": [
    {
     "name": "stdout",
     "output_type": "stream",
     "text": [
      "The median obtained is 89.9\n"
     ]
    }
   ],
   "source": [
    "print(f'The median obtained is {np.median(x)}')"
   ]
  },
  {
   "cell_type": "markdown",
   "metadata": {},
   "source": [
    "This happens because there are an abnormal amount of samples equal to zero, producing a rather skewed sample dataset when compared to an ideal exponential distribution. This can be observed in the Q-Q plot in question 1.3 b) \n",
    "### 2.7"
   ]
  },
  {
   "cell_type": "code",
   "execution_count": 225,
   "metadata": {},
   "outputs": [
    {
     "name": "stdout",
     "output_type": "stream",
     "text": [
      "The risk for the Rgη estimator is 54283.31\n",
      "The risk for the Rg estimator is 9592.08\n"
     ]
    }
   ],
   "source": [
    "η = np.log(2)\n",
    "θ = ML\n",
    "n = 55\n",
    "Rgη = η**2/(n*θ**2) + (η**2-2*η+1)/(θ**2)\n",
    "Rg = 1/(n*θ**2)\n",
    "\n",
    "print(f'The risk for the Rgη estimator is {Rgη:.2f}')\n",
    "print(f'The risk for the Rg estimator is {Rg:.2f}')"
   ]
  },
  {
   "cell_type": "markdown",
   "metadata": {},
   "source": [
    "## Exercise 3\n",
    "### 3.1\n",
    "$H_0 = \\{θ_0| θ_0 \\in Θ, \\frac{1}{θ_0} \\geq 1000\\}$ and $ H_1 = \\{θ_1| θ_1 \\in Θ, \\frac{1}{θ_1} \\lt 1000\\}$ "
   ]
  },
  {
   "cell_type": "markdown",
   "metadata": {},
   "source": [
    "### 3.2\n",
    "Considering $S = \\sum_{i=1}^{n}x_i$\n",
    "\\begin{equation}\n",
    "L(x) = \\frac{p_1(x)}{p_0(x)} = \\frac{θ_1e^{-xθ_1}}{θ_0e^{-xθ_0}} = \\frac{θ_1}{θ_0}e^{S(θ_0 - θ_1)}\n",
    "\\end{equation}\n",
    "Thus, the most powerful test at a given α will be:\n",
    "\\begin{equation}\n",
    "    \\begin{cases}\n",
    "    H_1, & \\text{if $L(x)>γ$}.\\\\\n",
    "    H_0, & \\text{if $L(x)<γ$}.\n",
    "    \\end{cases}\n",
    "\\end{equation}\n",
    "For a constant $γ > 0$\n",
    "\n",
    "Isolating x in L(x), we obtain:\n",
    "\\begin{equation}\n",
    "    \\begin{cases}\n",
    "    H_1, & \\text{if $S \\leq \\frac{ln(γΘ_0/θ_1)}{θ_0-θ_1} = c$}.\\\\\n",
    "    H_0, & \\text{if $S \\gt \\frac{ln(γΘ_0/θ_1)}{θ_0-θ_1} = c$}.\n",
    "    \\end{cases}\n",
    "\\end{equation}\n",
    "Where $S \\sim Γ(k, θ)$ with $k = n$ and $θ = θ$. "
   ]
  },
  {
   "cell_type": "markdown",
   "metadata": {},
   "source": [
    "### 3.3\n",
    "In order to obtain the p-value, one must simulate a gamma function. So the percentile of the sum of the cost vector in a Gamma function with $a = 55$ and $θ = 1000$ is:"
   ]
  },
  {
   "cell_type": "code",
   "execution_count": 226,
   "metadata": {},
   "outputs": [
    {
     "name": "stdout",
     "output_type": "stream",
     "text": [
      "The p value is 1.37%\n"
     ]
    }
   ],
   "source": [
    "k = 55\n",
    "print(f'The p value is {stats.gamma.cdf(x.sum(), 55, scale = 1000)*100:.2f}%')"
   ]
  },
  {
   "cell_type": "markdown",
   "metadata": {},
   "source": [
    "Since it is smaller than the significance level of 5%, we accept hypothesis 1 and conclude it is indeed inferior to 1000 dollars"
   ]
  },
  {
   "cell_type": "markdown",
   "metadata": {},
   "source": [
    "### 3.4"
   ]
  },
  {
   "cell_type": "code",
   "execution_count": 228,
   "metadata": {},
   "outputs": [],
   "source": [
    "avg = []\n",
    "for n in range(300):\n",
    "    avg.append(np.random.exponential(1000, 55).sum())"
   ]
  },
  {
   "cell_type": "code",
   "execution_count": 229,
   "metadata": {},
   "outputs": [],
   "source": [
    "def rejecReg(n, scale):\n",
    "    return stats.gamma.ppf(0.05, n, scale = scale)/n"
   ]
  },
  {
   "cell_type": "code",
   "execution_count": 231,
   "metadata": {},
   "outputs": [
    {
     "data": {
      "image/png": "[encoded data removed]",
      "text/plain": [
       "<Figure size 432x288 with 1 Axes>"
      ]
     },
     "metadata": {
      "needs_background": "light"
     },
     "output_type": "display_data"
    },
    {
     "name": "stdout",
     "output_type": "stream",
     "text": [
      "The threshold for rejection is 789.01\n"
     ]
    }
   ],
   "source": [
    "aux = np.linspace(int(35000/55), int(80000/55), 1000)\n",
    "plt.axvline(np.mean(x), color='orange', label = 'Sample mean')\n",
    "plt.axvline(rejecReg(55, 1000), color='Red', label = 'Rejection region')\n",
    "plt.plot(aux, stats.gamma.pdf(np.linspace(35000, 80000, 1000), 55, scale = 1000), color = 'black', label = 'Gamma distribution')\n",
    "plt.legend()\n",
    "plt.show()\n",
    "print(f'The threshold for rejection is {rejecReg(55, 1000):.2f}')"
   ]
  },
  {
   "cell_type": "markdown",
   "metadata": {},
   "source": [
    "### 3.5\n",
    "In order to calculate the power one must be able to calculate the type-II errors. So starting arbitrarily from $\\frac{1}{θ} = 500$ I will calculate the probability it is above the rejection threshold above. "
   ]
  },
  {
   "cell_type": "code",
   "execution_count": 210,
   "metadata": {},
   "outputs": [],
   "source": [
    "def powerplot(n_samples):\n",
    "    x = range(500, 1000, 10)\n",
    "    y=[]\n",
    "    for i in x:\n",
    "        y.append(stats.gamma.cdf(rejecReg(n_samples, 1000)*n_samples, n_samples, scale = i))\n",
    "    return y"
   ]
  },
  {
   "cell_type": "code",
   "execution_count": 211,
   "metadata": {},
   "outputs": [
    {
     "data": {
      "image/png": "[encoded data removed]",
      "text/plain": [
       "<Figure size 1008x432 with 4 Axes>"
      ]
     },
     "metadata": {
      "needs_background": "light"
     },
     "output_type": "display_data"
    }
   ],
   "source": [
    "x = range(500, 1000, 10)\n",
    "\n",
    "plt.subplots(2, 2, figsize = (14, 6))\n",
    "\n",
    "plt.subplot(221)\n",
    "plt.plot(x, powerplot(10))\n",
    "plt.axvline(rejecReg(10, 1000), color='Red', label = 'Rejection region for type-II errors')\n",
    "plt.xlabel(\"1/θ\")\n",
    "plt.ylabel(\"Power\")\n",
    "plt.title(\"Power-plot for 10 samples\")\n",
    "plt.legend()\n",
    "\n",
    "plt.subplot(222)\n",
    "plt.plot(x, powerplot(50))\n",
    "plt.axvline(rejecReg(50, 1000), color='Red', label = 'Rejection region for type-II errors')\n",
    "plt.xlabel(\"1/θ\")\n",
    "plt.ylabel(\"Power\")\n",
    "plt.title(\"Power-plot for 50 samples\")\n",
    "plt.legend()\n",
    "\n",
    "plt.subplot(223)\n",
    "plt.plot(x, powerplot(100))\n",
    "plt.axvline(rejecReg(100, 1000), color='Red', label = 'Rejection region for type-II errors')\n",
    "plt.xlabel(\"1/θ\")\n",
    "plt.ylabel(\"Power\")\n",
    "plt.title(\"Power-plot for 100 samples\")\n",
    "plt.legend()\n",
    "\n",
    "plt.subplot(224)\n",
    "plt.plot(x, powerplot(1000))\n",
    "plt.axvline(rejecReg(1000, 1000), color='Red', label = 'Rejection region for type-II errors')\n",
    "plt.xlabel(\"1/θ\")\n",
    "plt.ylabel(\"Power\")\n",
    "plt.title(\"Power-plot for 1000 samples\")\n",
    "plt.legend()\n",
    "\n",
    "plt.tight_layout()\n",
    "plt.show()"
   ]
  },
  {
   "cell_type": "markdown",
   "metadata": {},
   "source": [
    "To maximize power one must minimize type-II errors. Type-II errors are caused by values that exceed the threshold for rejection. If we take the curve that represents hypothesis 1, and iterate its center while applying the decision rule above considering H0 centered in 1000, it is possible to graph the power. The more samples collected from the exponential distribution, the higher observed power. Thus, the powerplot for 1000 samples mantains itself at power = 1 the longest until it suddenly decreases. "
   ]
  },
  {
   "cell_type": "markdown",
   "metadata": {},
   "source": [
    "### 3.6\n",
    "Because of the central limit theorem, it is possible to approximate the behavior of the distribution to a normal. Thus: $Γ(n, θ) \\sim N(\\frac{1}{θ}, \\frac{1}{θ^2n})$ as calculated in 2.5. "
   ]
  },
  {
   "cell_type": "code",
   "execution_count": 236,
   "metadata": {},
   "outputs": [
    {
     "data": {
      "image/png": "[encoded data removed]",
      "text/plain": [
       "<Figure size 432x288 with 1 Axes>"
      ]
     },
     "metadata": {
      "needs_background": "light"
     },
     "output_type": "display_data"
    }
   ],
   "source": [
    "mean = 1000\n",
    "variance = (1000**2)/55\n",
    "\n",
    "xg = np.linspace(600, 1400, 1000)\n",
    "gaus=stats.norm(loc=mean, scale = np.sqrt(variance))\n",
    "\n",
    "plt.plot(xg, gaus.pdf(xg), color = 'black', label = \"Gaussian Distribution\")\n",
    "plt.axvline(g, color='orange', label = 'Sample Mean')\n",
    "plt.axvline(gaus.ppf(0.05), color='red', label = 'Rejection Threshold')\n",
    "plt.legend()\n",
    "plt.show()"
   ]
  },
  {
   "cell_type": "code",
   "execution_count": 237,
   "metadata": {},
   "outputs": [
    {
     "name": "stdout",
     "output_type": "stream",
     "text": [
      "The threshold for rejection when using the Central limit theorem is: 778.21\n"
     ]
    }
   ],
   "source": [
    "print(f'The threshold for rejection when using the Central limit theorem is: {gaus.ppf(0.05):.2f}')"
   ]
  },
  {
   "cell_type": "markdown",
   "metadata": {},
   "source": [
    "This threshold is lower then when using the gamma distribution. However, it is still higher than the mean obtained in the sampled data, so the null hypothesis is still rejected in favor of hypothesis 1. "
   ]
  }
 ],
 "metadata": {
  "kernelspec": {
   "display_name": "Python 3 (ipykernel)",
   "language": "python",
   "name": "python3"
  },
  "language_info": {
   "codemirror_mode": {
    "name": "ipython",
    "version": 3
   },
   "file_extension": ".py",
   "mimetype": "text/x-python",
   "name": "python",
   "nbconvert_exporter": "python",
   "pygments_lexer": "ipython3",
   "version": "3.8.8"
  }
 },
 "nbformat": 4,
 "nbformat_minor": 4
}
