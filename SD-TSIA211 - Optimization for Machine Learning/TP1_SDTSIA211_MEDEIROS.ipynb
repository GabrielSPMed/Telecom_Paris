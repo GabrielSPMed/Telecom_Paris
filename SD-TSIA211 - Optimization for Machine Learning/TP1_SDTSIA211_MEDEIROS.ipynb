{
 "cells": [
  {
   "cell_type": "markdown",
   "metadata": {},
   "source": [
    "# SD-TSIA211 - Optimization for Machine Learning : Computer lab 1\n",
    "## Gabriel Medeiros and Júlia Togashi"
   ]
  },
  {
   "cell_type": "code",
   "execution_count": 1,
   "metadata": {},
   "outputs": [],
   "source": [
    "import numpy as np\n",
    "from scipy.sparse.linalg import svds\n",
    "from scipy.optimize import check_grad\n",
    "from scipy import sparse\n",
    "import matplotlib.pyplot as plt"
   ]
  },
  {
   "cell_type": "code",
   "execution_count": 2,
   "metadata": {},
   "outputs": [],
   "source": [
    "def load_movielens(filename, minidata=False):\n",
    "    \"\"\"\n",
    "    Cette fonction lit le fichier filename de la base de donnees\n",
    "    Movielens, par exemple \n",
    "    filename = '~/datasets/ml-100k/u.data'\n",
    "    Elle retourne \n",
    "    R : une matrice utilisateur-item contenant les scores\n",
    "    mask : une matrice valant 1 si il y a un score et 0 sinon\n",
    "    \"\"\"\n",
    "\n",
    "    data = np.loadtxt(filename, dtype=int)\n",
    "\n",
    "    R = sparse.coo_matrix((data[:, 2], (data[:, 0]-1, data[:, 1]-1)),\n",
    "                          dtype=float)\n",
    "    R = R.toarray()  # not optimized for big data\n",
    "\n",
    "    # code la fonction 1_K\n",
    "    mask = sparse.coo_matrix((np.ones(data[:, 2].shape),\n",
    "                              (data[:, 0]-1, data[:, 1]-1)), dtype=bool )\n",
    "    mask = mask.toarray()  # not optimized for big data\n",
    "\n",
    "    if minidata is True:\n",
    "        R = R[0:100, 0:200].copy()\n",
    "        mask = mask[0:100, 0:200].copy()\n",
    "\n",
    "    return R, mask\n",
    "\n",
    "\n",
    "def objective(P, Q0, R, mask, rho):\n",
    "    \"\"\"\n",
    "    La fonction objectif du probleme simplifie.\n",
    "    Prend en entree \n",
    "    P : la variable matricielle de taille C x I\n",
    "    Q0 : une matrice de taille U x C\n",
    "    R : une matrice de taille U x I\n",
    "    mask : une matrice 0-1 de taille U x I\n",
    "    rho : un reel positif ou nul\n",
    "\n",
    "    Sorties :\n",
    "    val : la valeur de la fonction\n",
    "    grad_P : le gradient par rapport a P\n",
    "    \"\"\"\n",
    "\n",
    "    tmp = (R - Q0.dot(P)) * mask\n",
    "\n",
    "    val = np.sum(tmp ** 2)/2. + rho/2. * (np.sum(Q0 ** 2) + np.sum(P ** 2))\n",
    "\n",
    "    grad_P = - Q0.T.dot(tmp) + rho*P\n",
    "\n",
    "    return val, grad_P\n",
    "\n",
    "\n",
    "def total_objective(P, Q, R, mask, rho):\n",
    "    \"\"\"\n",
    "    La fonction objectif du probleme complet.\n",
    "    Prend en entree \n",
    "    P : la variable matricielle de taille C x I\n",
    "    Q : la variable matricielle de taille U x C\n",
    "    R : une matrice de taille U x I\n",
    "    mask : une matrice 0-1 de taille U x I\n",
    "    rho : un reel positif ou nul\n",
    "\n",
    "    Sorties :\n",
    "    val : la valeur de la fonction\n",
    "    grad_P : le gradient par rapport a P\n",
    "    grad_Q : le gradient par rapport a Q\n",
    "    \"\"\"\n",
    "\n",
    "    tmp = (R - Q.dot(P)) * mask\n",
    "\n",
    "    val = np.sum(tmp ** 2)/2. + rho/2. * (np.sum(Q ** 2) + np.sum(P ** 2))\n",
    "\n",
    "    grad_P = - Q.T.dot(tmp) + rho*P\n",
    "\n",
    "    grad_Q = - tmp.dot(P.T) + rho*Q\n",
    "\n",
    "    return val, grad_P, grad_Q\n",
    "\n",
    "\n",
    "def total_objective_vectorized(PQvec, R, mask, rho):\n",
    "    \"\"\"\n",
    "    Vectorisation de la fonction precedente de maniere a ne pas\n",
    "    recoder la fonction gradient\n",
    "    \"\"\"\n",
    "\n",
    "    # reconstruction de P et Q\n",
    "    n_items = R.shape[1]\n",
    "    n_users = R.shape[0]\n",
    "    F = PQvec.shape[0] // (n_items + n_users)\n",
    "    Pvec = PQvec[0:n_items*F]\n",
    "    Qvec = PQvec[n_items*F:]\n",
    "    P = np.reshape(Pvec, (F, n_items))\n",
    "    Q = np.reshape(Qvec, (n_users, F))\n",
    "\n",
    "    val, grad_P, grad_Q = total_objective(P, Q, R, mask, rho)\n",
    "    return val, np.concatenate([grad_P.ravel(), grad_Q.ravel()])\n"
   ]
  },
  {
   "cell_type": "markdown",
   "metadata": {},
   "source": [
    "### 1.1\n",
    "Yes. The R matrix's dimensions are 943 x 1682.\n",
    "\n",
    "The minidata option, when True, returns a reduced sample of both R and mask, containing only the first 100 rows and 200 columns as opposed to the entire 943x1682."
   ]
  },
  {
   "cell_type": "code",
   "execution_count": 3,
   "metadata": {},
   "outputs": [
    {
     "name": "stdout",
     "output_type": "stream",
     "text": [
      "(943, 1682)\n"
     ]
    }
   ],
   "source": [
    "#R: User X Movie\n",
    "#Mask: indicates if in R's corresponding position there is a valid rating\n",
    "R, mask = load_movielens('ml-100k/u.data')\n",
    "print(np.shape(R))"
   ]
  },
  {
   "cell_type": "code",
   "execution_count": 4,
   "metadata": {},
   "outputs": [
    {
     "name": "stdout",
     "output_type": "stream",
     "text": [
      "(100, 200)\n"
     ]
    }
   ],
   "source": [
    "R_m, mask_m = load_movielens('ml-100k/u.data',minidata=True)\n",
    "print(np.shape(R_m))"
   ]
  },
  {
   "cell_type": "markdown",
   "metadata": {},
   "source": [
    "### 1.2\n",
    "\n",
    "The number of users corresponds to the number of rows and the number of movies to the number of columns:"
   ]
  },
  {
   "cell_type": "code",
   "execution_count": 5,
   "metadata": {},
   "outputs": [
    {
     "name": "stdout",
     "output_type": "stream",
     "text": [
      "The number of users is: 943\n",
      "The number of movies is: 1682\n",
      "The number of grades is: 100000\n"
     ]
    }
   ],
   "source": [
    "print(f'The number of users is: {np.shape(R)[0]}')\n",
    "print(f'The number of movies is: {np.shape(R)[1]}')\n",
    "print(f'The number of grades is: {np.count_nonzero(mask)}')"
   ]
  },
  {
   "cell_type": "markdown",
   "metadata": {},
   "source": [
    "### 2.1"
   ]
  },
  {
   "cell_type": "code",
   "execution_count": 6,
   "metadata": {},
   "outputs": [
    {
     "name": "stdout",
     "output_type": "stream",
     "text": [
      "(6,)\n",
      "Qs dimensions: (943, 4)\n",
      "Ps dimensions: (4, 1682)\n",
      "R and 1s dimensions: (943, 1682)\n"
     ]
    }
   ],
   "source": [
    "u, s, vt = svds(R)\n",
    "print(np.shape(s))\n",
    "# As F = {0; 1; 2; 3}, so Q0 is equal to the left singular vectors of R assossiated with the 4 largest singular values.\n",
    "# u => Unitary matrix having left singular vectors as columns.\n",
    "Q0 = u[:, 2:6].copy()\n",
    "print(f'Qs dimensions: {np.shape(Q0)}')\n",
    "P0 = vt[2:6,:].copy()\n",
    "print(f'Ps dimensions: {np.shape(P0)}')\n",
    "print(f'R and 1s dimensions: {np.shape(R)}')"
   ]
  },
  {
   "cell_type": "markdown",
   "metadata": {},
   "source": [
    "The function g in equal to:\n",
    "$$g(P)=\\frac{1}{2} ||1_K \\circ(R-Q^0P)||^2_F + \\frac{\\rho}{2}||Q^0||^2_F+\\frac{\\rho}{2}||P||^2_F$$\n",
    "\n",
    "Thus, we have the gradient of g:\n",
    "\n",
    "$$\\nabla g(P)= - (Q^0)^T (1_K \\circ(R-Q^0P)) + \\rho (P)$$\n",
    " \n",
    "R => |U| x |I|\n",
    "\n",
    "Q => |U| x |F|\n",
    "\n",
    "P => |F| x |I|\n",
    "\n",
    "1<sub>k</sub> => |U| x |I|\n",
    "\n",
    "So, it can be verified that the matrixes are the right size for the gradient operations.\n",
    "\n",
    "<br>\n",
    "<br>\n",
    "Furthermore, the gradient of g is Lipschitz continuous, which means:\n",
    "\n",
    "$$||\\nabla g(x) - \\nabla g(y)|| \\le L||x-y||$$\n",
    "\n",
    "$$ L_0 = \\gamma + ||(Q^0)^TQ^0||_F$$\n",
    "\n",
    "$$||\\nabla g(x) - \\nabla g(y)|| \\le \\gamma + ||(Q^0)^TQ^0||_F ||x-y||$$\n",
    "\n"
   ]
  },
  {
   "cell_type": "markdown",
   "metadata": {},
   "source": [
    "### 2.2\n",
    "\n",
    "The updated objective function used for the gradient's calculation can be found above.\n",
    "\n",
    "Below, is the result check using the function scipy.optimize.check grad. Function G and gradient of G were re-implemented because the scypy method doesn’t accept matrixes as entries.  \n",
    "\n",
    "The result is equivalent to the 2-norm of the difference between the computed gradient and the finite difference approximation of grad using func at the points x0. The result equal to one seems reasonable with a good result.\n"
   ]
  },
  {
   "cell_type": "code",
   "execution_count": 7,
   "metadata": {},
   "outputs": [
    {
     "name": "stdout",
     "output_type": "stream",
     "text": [
      "685090.9826478566 \n",
      "\n",
      " [[-2.55835469e+00 -5.14087869e-01 -7.74854347e+00 ...  1.51609837e-01\n",
      "  -1.23001305e-02 -2.78280231e-01]\n",
      " [-3.67212649e+00 -1.35843950e+01 -2.53092543e+00 ...  1.16056556e-01\n",
      "  -9.89287578e-02 -5.69152300e-02]\n",
      " [ 2.12889444e+01  1.71255044e+00  6.99477357e+00 ...  1.09667834e-01\n",
      "  -2.57535939e-02 -4.97154635e-02]\n",
      " [ 6.13798891e+01  2.25062702e+01  1.27521746e+01 ...  1.94547773e-02\n",
      "   2.12049644e-01  2.02941964e-01]] \n",
      "\n",
      " 735.7647801671626\n"
     ]
    }
   ],
   "source": [
    "val, grad_P = objective(P0, Q0, R, mask, 0.1)\n",
    "print(val,\"\\n\\n\",grad_P,\"\\n\\n\", np.linalg.norm(grad_P))"
   ]
  },
  {
   "cell_type": "code",
   "execution_count": 18,
   "metadata": {},
   "outputs": [
    {
     "name": "stdout",
     "output_type": "stream",
     "text": [
      "1.137885877595599\n"
     ]
    }
   ],
   "source": [
    "def g(P,Q0, R,mask,rho):\n",
    "    P=np.reshape(P,(4,1682))\n",
    "    Q0= np.reshape(Q0,(943,4))\n",
    "    R= np.reshape(R,(943,1682))\n",
    "    mask= np.reshape(mask,(943,1682))\n",
    "    \n",
    "    tmp = (R - Q0.dot(P)) * mask\n",
    "    val = np.sum(tmp ** 2)/2. + rho/2. * (np.sum(Q0 ** 2) + np.sum(P ** 2))\n",
    "    return val\n",
    "    \n",
    "def grad_g(P,Q0, R,mask,rho):\n",
    "    P=np.reshape(P,(4,1682))\n",
    "    Q0= np.reshape(Q0,(943,4))\n",
    "    R= np.reshape(R,(943,1682))\n",
    "    mask= np.reshape(mask,(943,1682))\n",
    "    \n",
    "    tmp = (R - Q0.dot(P)) * mask\n",
    "    grad_P = - Q0.T.dot(tmp) + rho*P\n",
    "    return np.ravel(grad_P)\n",
    "\n",
    "check = check_grad(g,grad_g,np.ravel(P0),np.ravel(Q0),np.ravel(R),np.ravel(mask),0.3)\n",
    "print(check)"
   ]
  },
  {
   "cell_type": "markdown",
   "metadata": {},
   "source": [
    "### 2.3\n",
    "\n",
    "The function below, guarantees convergence of the gradient descent method when $0<\\gamma<2/L $, where L was previously defined in 2.1:"
   ]
  },
  {
   "cell_type": "code",
   "execution_count": 9,
   "metadata": {},
   "outputs": [],
   "source": [
    "#gradient descent implemented in a generic way\n",
    "def gradient(g,grad_g, P0, gamma, epsilon):\n",
    "    P=P0\n",
    "    while np.linalg.norm(grad_g(P),'fro')>epsilon:\n",
    "        #print(g(P))\n",
    "        P=P-(gamma*grad_g(P))\n",
    "    return g(P),P"
   ]
  },
  {
   "cell_type": "markdown",
   "metadata": {},
   "source": [
    "### 2.4\n",
    "\n",
    "Using the function implemented in the previously with $ \\epsilon = 1$, and with $\\gamma$ defined to guarantee  convergence as stated in 2.3."
   ]
  },
  {
   "cell_type": "code",
   "execution_count": 10,
   "metadata": {},
   "outputs": [
    {
     "name": "stdout",
     "output_type": "stream",
     "text": [
      "256176.17238626772\n"
     ]
    }
   ],
   "source": [
    "gamma=1/(np.linalg.norm(Q0.T.dot(Q0),'fro') + 0.1)\n",
    "\n",
    "val,P=gradient(lambda P0:objective(P0,Q0,R,mask,0.1)[0],lambda P0:objective(P0,Q0,R,mask,0.1)[1], P0, gamma, 1)\n",
    "print(val)"
   ]
  },
  {
   "cell_type": "markdown",
   "metadata": {},
   "source": [
    "### 2.5\n",
    "\n",
    "Line search can be used when the Lipschitz constant L is unknown, or when the gradient the function's gradient is only locally Lipschitz continuous. Using the gradient method's proof, $\\gamma$ can be estimated:\n",
    "\n",
    "$$x^+(\\gamma_k)=x_k-\\gamma_k\\nabla f(x_k)$$\n",
    "\n",
    "For a $b>0$ and $a\\in(0,1)$, search for the first non-negative integer I, such that $\\nabla={ba}^I$:\n",
    "\n",
    "$$f(X^+(ba^I))\\leq f(x_k) + <\\nabla f(x_k),x^+(ba^I) - x_k> + \\frac{1}{2{ba}^I}||x_k-x^+(ba^I)||^2$$\n",
    "\n",
    "Classical parameter choices are $a = 0.5$ and $b =2\\gamma_{k-1}$and for the gradient descent method $<\\nabla f(x_k),x^+(\\gamma) - x_k> = -\\gamma||\\nabla f(x_k)||^2$.\n",
    "\n",
    "As can be seen below, the gradient method's result using line search was close to the result when the Lipschitz constant was known beforehand."
   ]
  },
  {
   "cell_type": "code",
   "execution_count": 11,
   "metadata": {},
   "outputs": [],
   "source": [
    "#gradient descent implemented using line search in a generic way\n",
    "def gradient_line_search(g,grad_g, P0,a, b, epsilon):\n",
    "    P=P0\n",
    "    aux= []\n",
    "    aux_g=[]\n",
    "    if (b<=0 or a<=0 or a>=1):\n",
    "        return(\"b should be >0 and a should be in the interval (0,1)\")\n",
    "    aux.append(np.linalg.norm(grad_g(P),'fro'))\n",
    "    aux_g.append(g(P))\n",
    "    while np.linalg.norm(grad_g(P),'fro')>epsilon:\n",
    "        I=0\n",
    "        gamma=b*(a**I)\n",
    "        P_plus=P-(gamma*grad_g(P))\n",
    "        while(g(P_plus)>g(P)-gamma*np.sum(grad_g(P)**2)+(1/(2*gamma))*(np.sum((P-P_plus) ** 2))):\n",
    "            I+=1\n",
    "            gamma=b*(a**I)\n",
    "            P_plus=P-(gamma*grad_g(P))\n",
    "        P=P-(gamma*grad_g(P))\n",
    "        b=2*gamma\n",
    "        aux.append(np.linalg.norm(grad_g(P),'fro'))\n",
    "        aux_g.append(g(P))\n",
    "    return g(P),P, aux, aux_g"
   ]
  },
  {
   "cell_type": "code",
   "execution_count": 12,
   "metadata": {},
   "outputs": [
    {
     "name": "stdout",
     "output_type": "stream",
     "text": [
      "256174.75826416715\n"
     ]
    },
    {
     "data": {
      "image/png": "[encoded data removed]",
      "text/plain": [
       "<Figure size 1080x432 with 1 Axes>"
      ]
     },
     "metadata": {
      "needs_background": "light"
     },
     "output_type": "display_data"
    },
    {
     "data": {
      "image/png": "[encoded data removed]",
      "text/plain": [
       "<Figure size 1080x432 with 1 Axes>"
      ]
     },
     "metadata": {
      "needs_background": "light"
     },
     "output_type": "display_data"
    }
   ],
   "source": [
    "gls,P, vec,vec_g =  gradient_line_search(lambda P0:objective(P0,Q0,R,mask,0.1)[0],lambda P0:objective(P0,Q0,R,mask,0.1)[1], P0, 0.5,3, 1)\n",
    "print(gls)\n",
    "\n",
    "plt.figure(figsize=(15, 6))\n",
    "\n",
    "plt.plot(vec, label = 'Gradient')\n",
    "plt.axhline(y=1, color='r', label = 'Stop condition')\n",
    "plt.title('Gradient descent efficiency')\n",
    "plt.xlabel('Number of iterations')\n",
    "plt.ylabel('Gradient')\n",
    "plt.legend()\n",
    "plt.show()\n",
    "\n",
    "plt.figure(figsize=(15, 6))\n",
    "plt.plot(vec_g, label = 'G')\n",
    "plt.title('Behavior of Function in Gradient descent')\n",
    "plt.xlabel('Number of iterations')\n",
    "plt.ylabel('G(P)')\n",
    "plt.legend()\n",
    "plt.show()"
   ]
  },
  {
   "cell_type": "markdown",
   "metadata": {},
   "source": [
    "### 3.1\n",
    "\n",
    "Assuming it is Lipschitz continuous:\n",
    "$$||\\nabla f(x, y) - \\nabla f(x_1, y)|| \\leq K ||x - x_1||$$\n",
    "\n",
    "Then:\n",
    "$$\\Bigl| \\Bigl| \\frac{\\nabla f(x, y) - \\nabla f(x_1, y)}{x - x_1} \\Bigr | \\Bigr | \\leq K$$\n",
    "\n",
    "However, when $x \\rightarrow x_1$:\n",
    "$$\\Bigl| \\Bigl| \\frac{\\nabla f(x, y) - \\nabla f(x_1, y)}{x - x_1} \\Bigr | \\Bigr | \\rightarrow \\frac{\\partial \\nabla f(x_1, y)}{\\partial x}$$\n",
    "\n",
    "Therefore:\n",
    "$$\\Bigl| \\Bigl| \\frac{\\partial \\nabla f(x, y)}{\\partial x} \\Bigr | \\Bigr | \\leq K$$\n",
    "\n",
    "But $\\frac{\\partial \\nabla f(x_1, y)}{\\partial x}$ is a polynomial of degree 2 which is unbounded, so the statement above is impossible. Therefore it can't be Lipschitz continuous"
   ]
  },
  {
   "cell_type": "markdown",
   "metadata": {},
   "source": [
    "### 3.2\n",
    "\n",
    "From 2.1 it is known that:\n",
    "$$\\frac{\\partial g(P, Q)}{\\partial P}= - (Q)^T (1_K \\circ(R-QP)) + \\rho (P)$$\n",
    "\n",
    "Repeating the same process for P:\n",
    "$$\\frac{\\partial g(P, Q)}{\\partial Q}= - (1_K \\circ(R-QP)) (P)^T + \\rho (Q)$$\n",
    "\n",
    "These functions were added to the total_objective function"
   ]
  },
  {
   "cell_type": "code",
   "execution_count": 13,
   "metadata": {},
   "outputs": [],
   "source": [
    "def total_gradLS (total_objective, P, Q, R, mask, rho, a, b, epsilon):\n",
    "    if (b<=0 or a<=0 or a>=1):\n",
    "        return(\"b should be >0 and a should be in the interval (0,1)\")\n",
    "    val, gradP, gradQ = total_objective(P, Q, R, mask, rho)\n",
    "    aux = []\n",
    "    aux_g = []\n",
    "    aux.append(np.linalg.norm(gradP,'fro') + np.linalg.norm(gradQ,'fro'))\n",
    "    aux_g.append(val)\n",
    "    while np.linalg.norm(gradP,'fro') + np.linalg.norm(gradQ,'fro')>epsilon:\n",
    "\n",
    "        I=0\n",
    "        gamma=b*(a**I)\n",
    "        Pplus=P-(gamma*gradP)\n",
    "        Qplus=Q-(gamma*gradQ)\n",
    "\n",
    "\n",
    "        #finding the gamma constant\n",
    "        valPlus, _, _ = total_objective(Pplus, Qplus, R, mask, rho)\n",
    "        while(valPlus>val-gamma*(np.sum(gradP**2)+np.sum(gradQ**2))+(1/(2*gamma))*(np.sum((P-Pplus)**2)+np.sum((Q-Qplus)**2))):\n",
    "            I+=1\n",
    "            gamma=b*(a**I)\n",
    "            Pplus=P-(gamma*gradP)\n",
    "            Qplus=Q-(gamma*gradQ)\n",
    "            valPlus, _, _ = total_objective(Pplus, Qplus, R, mask, rho)\n",
    "\n",
    "        P = P - gamma*gradP\n",
    "        Q = Q - gamma*gradQ\n",
    "        b=2*gamma\n",
    "        val, gradP, gradQ = total_objective(P, Q, R, mask, rho)\n",
    "        aux.append(np.linalg.norm(gradP,'fro') + np.linalg.norm(gradQ,'fro'))\n",
    "        aux_g.append(val)\n",
    "    return val, P, Q, aux,aux_g"
   ]
  },
  {
   "cell_type": "code",
   "execution_count": 14,
   "metadata": {
    "scrolled": true
   },
   "outputs": [
    {
     "name": "stdout",
     "output_type": "stream",
     "text": [
      "34567.35999186792\n"
     ]
    }
   ],
   "source": [
    "val, P, Q, vecpq,vecg = total_gradLS(total_objective, P0, Q0, R, mask, 0.1, 0.5, 3, 100)\n",
    "print(val)"
   ]
  },
  {
   "cell_type": "code",
   "execution_count": 15,
   "metadata": {},
   "outputs": [
    {
     "data": {
      "image/png": "[encoded data removed]",
      "text/plain": [
       "<Figure size 1080x432 with 1 Axes>"
      ]
     },
     "metadata": {
      "needs_background": "light"
     },
     "output_type": "display_data"
    },
    {
     "data": {
      "image/png": "[encoded data removed]",
      "text/plain": [
       "<Figure size 1080x432 with 1 Axes>"
      ]
     },
     "metadata": {
      "needs_background": "light"
     },
     "output_type": "display_data"
    }
   ],
   "source": [
    "plt.figure(figsize=(15, 6))\n",
    "\n",
    "plt.plot(vecpq, label = 'Gradient')\n",
    "plt.axhline(y=100, color='r', label = 'Stop condition')\n",
    "plt.title('Gradient descent efficiency')\n",
    "plt.xlabel('Number of iterations')\n",
    "plt.ylabel('Sum of Q and Ps gradients')\n",
    "plt.legend()\n",
    "plt.show()\n",
    "\n",
    "\n",
    "plt.figure(figsize=(15, 6))\n",
    "plt.plot(vecg, label = 'G')\n",
    "plt.title('Behavior of Function in Gradient descent')\n",
    "plt.xlabel('Number of iterations')\n",
    "plt.ylabel('G(P,Q)')\n",
    "plt.legend()\n",
    "plt.show()"
   ]
  },
  {
   "cell_type": "markdown",
   "metadata": {},
   "source": [
    "It returns two vectors that when multiplied return the expected score for every for each user for each film"
   ]
  },
  {
   "cell_type": "markdown",
   "metadata": {},
   "source": [
    "### 3.3"
   ]
  },
  {
   "cell_type": "code",
   "execution_count": 16,
   "metadata": {},
   "outputs": [
    {
     "name": "stdout",
     "output_type": "stream",
     "text": [
      "I would recommend film number 312 to viewer 300\n"
     ]
    }
   ],
   "source": [
    "scores = Q.dot(P)[300]\n",
    "seen = mask[300]\n",
    "maxsc=0\n",
    "aux=0\n",
    "for i in range(len(scores)):\n",
    "    if seen[i]==0:\n",
    "        if aux == 0:\n",
    "            maxsc = i\n",
    "            aux = 1\n",
    "        elif scores[i]>scores[maxsc]:\n",
    "            maxsc = i\n",
    "print(f'I would recommend film number {maxsc} to viewer 300')    "
   ]
  },
  {
   "cell_type": "code",
   "execution_count": null,
   "metadata": {},
   "outputs": [],
   "source": []
  }
 ],
 "metadata": {
  "kernelspec": {
   "display_name": "Python 3",
   "language": "python",
   "name": "python3"
  },
  "language_info": {
   "codemirror_mode": {
    "name": "ipython",
    "version": 3
   },
   "file_extension": ".py",
   "mimetype": "text/x-python",
   "name": "python",
   "nbconvert_exporter": "python",
   "pygments_lexer": "ipython3",
   "version": "3.7.9"
  }
 },
 "nbformat": 4,
 "nbformat_minor": 4
}
