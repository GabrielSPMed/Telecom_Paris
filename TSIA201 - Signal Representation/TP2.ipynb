{
 "cells": [
  {
   "cell_type": "code",
   "execution_count": 2,
   "metadata": {},
   "outputs": [],
   "source": [
    "import os, sys, wave, struct\n",
    "\n",
    "import numpy as np\n",
    "import pyaudio\n",
    "import pandas as pd\n",
    "import matplotlib.pyplot as plt\n",
    "import scipy.signal\n",
    "import scipy.ndimage.filters\n",
    "\n",
    "from copy import deepcopy\n",
    "from math import ceil\n",
    "import time\n",
    "\n",
    "from scipy.io.wavfile import write"
   ]
  },
  {
   "cell_type": "code",
   "execution_count": 3,
   "metadata": {},
   "outputs": [],
   "source": [
    "def upsampling(x, L):\n",
    "    zero = np.zeros(len(x)*L)\n",
    "    zero[::L] = x\n",
    "    return zero\n",
    "\n",
    "def downsampling(x, M):\n",
    "    return x[::M]*M\n",
    "\n",
    "def delay(x, z):\n",
    "    zero=np.zeros(len(x))\n",
    "    if(z<0):\n",
    "        zero[:len(x) - z*(-1):]=x[z*(-1)::]\n",
    "    else:\n",
    "        zero[z::]=x[:len(x) - z:]\n",
    "    return zero\n",
    "\n",
    "def load_sound(file):\n",
    "    return wave.open(file, 'rb')\n",
    "\n",
    "def play_sound(file, chunk = 1024):\n",
    "    \"\"\"\n",
    "    Script from PyAudio doc\n",
    "    \"\"\"\n",
    "    wf = load_sound(file)\n",
    "    p = pyaudio.PyAudio()\n",
    "    stream = p.open(format=p.get_format_from_width(wf.getsampwidth()),\n",
    "                    channels=wf.getnchannels(),\n",
    "                    rate=wf.getframerate(),\n",
    "                    output=True)\n",
    "    data = wf.readframes(chunk)\n",
    "\n",
    "    while data:\n",
    "        stream.write(data)\n",
    "        data = wf.readframes(chunk )\n",
    "\n",
    "    stream.stop_stream()\n",
    "    stream.close()\n",
    "    p.terminate()\n",
    "\n",
    "def getAudio(filepath):\n",
    "    data_path = os.getcwd()\n",
    "    sound = os.path.join(data_path, filepath)\n",
    "    wavefile = wave.open(sound, 'rb')\n",
    "    play = False\n",
    "    if play :\n",
    "        play_sound(sound) \n",
    "    Fs = int(wavefile.getframerate())\n",
    "    num_samples = int(wavefile.getnframes())\n",
    "    data = wavefile.readframes(num_samples)\n",
    "    data = struct.unpack('{n}h'.format(n=num_samples), data)\n",
    "    return np.array(data)\n",
    "def F0 (x):\n",
    "    return delay(x, -1)\n",
    "def F1 (x):\n",
    "    return x"
   ]
  },
  {
   "cell_type": "markdown",
   "metadata": {},
   "source": [
    "## Exercise 1\n",
    "### 1.1"
   ]
  },
  {
   "cell_type": "markdown",
   "metadata": {},
   "source": [
    "3"
   ]
  },
  {
   "cell_type": "markdown",
   "metadata": {},
   "source": [
    "## 2"
   ]
  },
  {
   "cell_type": "code",
   "execution_count": 78,
   "metadata": {},
   "outputs": [],
   "source": [
    "s0 = getAudio('femme3.wav')\n",
    "s1 = getAudio('homme3.wav')"
   ]
  },
  {
   "cell_type": "code",
   "execution_count": 79,
   "metadata": {},
   "outputs": [],
   "source": [
    "snh0 = upsampling(s0, 2)\n",
    "snh1 = upsampling(s1, 2)"
   ]
  },
  {
   "cell_type": "code",
   "execution_count": 80,
   "metadata": {},
   "outputs": [],
   "source": [
    "temp = F0(snh0) + F1(snh1)"
   ]
  },
  {
   "cell_type": "code",
   "execution_count": 81,
   "metadata": {},
   "outputs": [],
   "source": [
    "sch0 = F1(temp)\n",
    "sch1 = F0(temp)"
   ]
  },
  {
   "cell_type": "code",
   "execution_count": 82,
   "metadata": {},
   "outputs": [],
   "source": [
    "s0new = downsampling(sch0, 2)\n",
    "s1new = downsampling(sch1, 2)"
   ]
  },
  {
   "cell_type": "code",
   "execution_count": 83,
   "metadata": {},
   "outputs": [],
   "source": [
    "write('femme2_1.wav',22000,np.array(s0new*0.4,dtype=np.int16))\n",
    "write('homme2_1.wav',22000,np.array(s1new*0.4,dtype=np.int16))"
   ]
  },
  {
   "cell_type": "markdown",
   "metadata": {},
   "source": [
    "### 2.2"
   ]
  },
  {
   "cell_type": "markdown",
   "metadata": {},
   "source": [
    "They are not the right outputs because they were swapped. In the expected audio file for the female voice the male audio file was present. And the other way around as well."
   ]
  },
  {
   "cell_type": "markdown",
   "metadata": {},
   "source": [
    "### 2.3"
   ]
  },
  {
   "cell_type": "code",
   "execution_count": 31,
   "metadata": {},
   "outputs": [],
   "source": [
    "def C(x, a):\n",
    "    aux = np.zeros(2)\n",
    "    aux[0]=1\n",
    "    aux[1]=-a\n",
    "    return np.convolve(x, aux)"
   ]
  },
  {
   "cell_type": "code",
   "execution_count": 67,
   "metadata": {},
   "outputs": [],
   "source": [
    "def Dcausal(x, a):\n",
    "    #n0 equals zero, d equals 1\n",
    "    aux =np.ones(100)\n",
    "    for i in range(100):\n",
    "        aux[i]=a**i\n",
    "    return np.convolve(x, aux)"
   ]
  },
  {
   "cell_type": "code",
   "execution_count": 68,
   "metadata": {},
   "outputs": [],
   "source": [
    "def DantiCausal(x, a):\n",
    "    aux = np.ones(100)\n",
    "    n0 = 102\n",
    "    for i in range(100):\n",
    "        aux[i]=-a**(i-n0)*unit(-i+n0-1)\n",
    "    return np.convolve(x, aux)"
   ]
  },
  {
   "cell_type": "markdown",
   "metadata": {},
   "source": [
    "2.3 a"
   ]
  },
  {
   "cell_type": "code",
   "execution_count": 76,
   "metadata": {},
   "outputs": [],
   "source": [
    "femme2_3 = Dcausal(C(temp, 0.9), 0.9)\n",
    "femme2_3 = F0(femme2_3)\n",
    "femme2_3 = downsampling(femme2_3, 2)\n",
    "write('femme2_3a.wav',22000,np.array(femme2_3*0.5,dtype=np.int16))\n",
    "\n",
    "homme2_3 = Dcausal(C(temp, 0.9), 0.9)\n",
    "homme2_3 = F1(homme2_3)\n",
    "homme2_3 = downsampling(homme2_3, 2)\n",
    "write('homme2_3a.wav',22000,np.array(homme2_3*0.4,dtype=np.int16))"
   ]
  },
  {
   "cell_type": "markdown",
   "metadata": {},
   "source": [
    "2.3 b"
   ]
  },
  {
   "cell_type": "code",
   "execution_count": 70,
   "metadata": {},
   "outputs": [],
   "source": [
    "def unit(x):\n",
    "    if x >=0:\n",
    "        return 1\n",
    "    else:\n",
    "        return 0"
   ]
  },
  {
   "cell_type": "code",
   "execution_count": 75,
   "metadata": {},
   "outputs": [],
   "source": [
    "femme2_3 = DantiCausal(C(temp, 1.2), 1.2)\n",
    "femme2_3 = F0(femme2_3)\n",
    "femme2_3 = downsampling(femme2_3, 2)\n",
    "write('femme2_3b.wav',22000,np.array(femme2_3*0.5,dtype=np.int16))\n",
    "\n",
    "homme2_3 = DantiCausal(C(temp, 1.2), 1.2)\n",
    "homme2_3 = F1(homme2_3)\n",
    "homme2_3 = downsampling(homme2_3, 2)\n",
    "write('homme2_3b.wav',22000,np.array(homme2_3*0.5,dtype=np.int16))"
   ]
  },
  {
   "cell_type": "code",
   "execution_count": null,
   "metadata": {},
   "outputs": [],
   "source": []
  }
 ],
 "metadata": {
  "kernelspec": {
   "display_name": "Python 3",
   "language": "python",
   "name": "python3"
  },
  "language_info": {
   "codemirror_mode": {
    "name": "ipython",
    "version": 3
   },
   "file_extension": ".py",
   "mimetype": "text/x-python",
   "name": "python",
   "nbconvert_exporter": "python",
   "pygments_lexer": "ipython3",
   "version": "3.7.9"
  }
 },
 "nbformat": 4,
 "nbformat_minor": 4
}
